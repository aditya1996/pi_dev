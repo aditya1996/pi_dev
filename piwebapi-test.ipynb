{
 "cells": [
  {
   "cell_type": "markdown",
   "metadata": {},
   "source": [
    "# First Attempt with Hardcoded credentials"
   ]
  },
  {
   "cell_type": "code",
   "execution_count": null,
   "metadata": {
    "tags": []
   },
   "outputs": [],
   "source": [
    "import requests\n",
    "import urllib3\n",
    "\n",
    "urllib3.disable_warnings()\n",
    "from requests.auth import HTTPBasicAuth\n",
    "\n",
    "user_name = \"GPNET\\ADMadityt\"\n",
    "user_password = \"YourPasswordHere\"\n",
    "security_auth = HTTPBasicAuth(user_name, user_password)\n",
    "\n",
    "response = requests.get(\"https://or190srpivision.gpnet.gapac.com/PIWebAPI/system/userinfo\", auth=security_auth, verify=False)\n",
    "print(response.json())"
   ]
  },
  {
   "cell_type": "markdown",
   "metadata": {},
   "source": [
    "## Creating a credentials json file"
   ]
  },
  {
   "cell_type": "code",
   "execution_count": null,
   "metadata": {},
   "outputs": [],
   "source": [
    "import json\n",
    "\n",
    "cred = {\n",
    "\t\"username\" : \"GPNET\\ADMadityt\",\n",
    "\t\"password\" : \"YourPasswordhere\"\n",
    "}\n",
    "\n",
    "with open(\"credentials.json\", \"w\") as creden:\n",
    "    json.dump(cred, creden)"
   ]
  },
  {
   "cell_type": "markdown",
   "metadata": {},
   "source": [
    "# Second Attempt using credentials file"
   ]
  },
  {
   "cell_type": "code",
   "execution_count": null,
   "metadata": {
    "tags": [
     "outputPrepend"
    ]
   },
   "outputs": [],
   "source": [
    "import requests\n",
    "import urllib3\n",
    "import json\n",
    "\n",
    "urllib3.disable_warnings()\n",
    "from requests.auth import HTTPBasicAuth\n",
    "\n",
    "f = open(\"credentials.json\")\n",
    "data= json.load(f)\n",
    "\n",
    "user_name = data['username']\n",
    "user_password = data['password']\n",
    "security_auth = HTTPBasicAuth(user_name, user_password)\n",
    "\n",
    "response = requests.get(\"https://or190srpivision.gpnet.gapac.com/PIWebAPI/streamsets/F1EmMzF0DoIZN0uP2S8n6j7l4wkwH8t-vC6hGJvriKYK4HewT1IxOTBTUlBJQUZcVE9MLVBST0NFU1NDT05URVhUXFRPTFxUT0wtRU5FUkdZXFRPTC1VVElMSVRJRVNcVE9MLVVUSUxJVElFUy1BSVI/recorded?startTime=*-5h&endtime=*&interval=1h&selectedFields=Items.Items.Timestamp;Items.Items.Value;\", auth=security_auth, verify=False)\n",
    "print(response.json())\n",
    "data = response.json()"
   ]
  },
  {
   "cell_type": "code",
   "execution_count": 7,
   "metadata": {
    "tags": []
   },
   "outputs": [],
   "source": [
    "pi_data = data['Items'][0]['Items']"
   ]
  },
  {
   "cell_type": "code",
   "execution_count": 8,
   "metadata": {
    "tags": []
   },
   "outputs": [],
   "source": [
    "pi_data_time = []\n",
    "for i in pi_data:\n",
    "    pi_data_time.append(i['Timestamp'])"
   ]
  },
  {
   "cell_type": "code",
   "execution_count": 9,
   "metadata": {},
   "outputs": [],
   "source": [
    "pi_data_value = []\n",
    "for i in pi_data:\n",
    "    pi_data_value.append(i['Value'])"
   ]
  },
  {
   "cell_type": "code",
   "execution_count": 15,
   "metadata": {
    "tags": []
   },
   "outputs": [
    {
     "output_type": "execute_result",
     "data": {
      "text/plain": "              Timestamp  Value\n0  2021-06-21T11:10:30Z   1971\n1  2021-06-21T11:10:32Z   1925\n2  2021-06-21T11:10:46Z   2082\n3  2021-06-21T11:11:02Z   1919\n4  2021-06-21T11:11:04Z   2015",
      "text/html": "<div>\n<style scoped>\n    .dataframe tbody tr th:only-of-type {\n        vertical-align: middle;\n    }\n\n    .dataframe tbody tr th {\n        vertical-align: top;\n    }\n\n    .dataframe thead th {\n        text-align: right;\n    }\n</style>\n<table border=\"1\" class=\"dataframe\">\n  <thead>\n    <tr style=\"text-align: right;\">\n      <th></th>\n      <th>Timestamp</th>\n      <th>Value</th>\n    </tr>\n  </thead>\n  <tbody>\n    <tr>\n      <th>0</th>\n      <td>2021-06-21T11:10:30Z</td>\n      <td>1971</td>\n    </tr>\n    <tr>\n      <th>1</th>\n      <td>2021-06-21T11:10:32Z</td>\n      <td>1925</td>\n    </tr>\n    <tr>\n      <th>2</th>\n      <td>2021-06-21T11:10:46Z</td>\n      <td>2082</td>\n    </tr>\n    <tr>\n      <th>3</th>\n      <td>2021-06-21T11:11:02Z</td>\n      <td>1919</td>\n    </tr>\n    <tr>\n      <th>4</th>\n      <td>2021-06-21T11:11:04Z</td>\n      <td>2015</td>\n    </tr>\n  </tbody>\n</table>\n</div>"
     },
     "metadata": {},
     "execution_count": 15
    }
   ],
   "source": [
    "import pandas as pd \n",
    "\n",
    "df = pd.DataFrame(list(zip(pi_data_time, pi_data_value)), columns=['Timestamp','Value'])\n",
    "df.head()"
   ]
  },
  {
   "cell_type": "code",
   "execution_count": 24,
   "metadata": {
    "tags": []
   },
   "outputs": [
    {
     "output_type": "execute_result",
     "data": {
      "text/plain": "               Timestamp  Value\n0   2021-06-21T11:10:30Z   1971\n1   2021-06-21T11:10:32Z   1925\n2   2021-06-21T11:10:46Z   2082\n3   2021-06-21T11:11:02Z   1919\n4   2021-06-21T11:11:04Z   2015\n5   2021-06-21T11:11:26Z   2042\n6   2021-06-21T11:11:28Z   1910\n7   2021-06-21T11:11:50Z   1946\n8   2021-06-21T11:11:52Z   1956\n9   2021-06-21T11:12:08Z   1922\n10  2021-06-21T11:12:10Z   1890\n11  2021-06-21T11:12:26Z   1895\n12  2021-06-21T11:12:28Z   1948\n13  2021-06-21T11:12:44Z   1967\n14  2021-06-21T11:12:46Z   2031",
      "text/html": "<div>\n<style scoped>\n    .dataframe tbody tr th:only-of-type {\n        vertical-align: middle;\n    }\n\n    .dataframe tbody tr th {\n        vertical-align: top;\n    }\n\n    .dataframe thead th {\n        text-align: right;\n    }\n</style>\n<table border=\"1\" class=\"dataframe\">\n  <thead>\n    <tr style=\"text-align: right;\">\n      <th></th>\n      <th>Timestamp</th>\n      <th>Value</th>\n    </tr>\n  </thead>\n  <tbody>\n    <tr>\n      <th>0</th>\n      <td>2021-06-21T11:10:30Z</td>\n      <td>1971</td>\n    </tr>\n    <tr>\n      <th>1</th>\n      <td>2021-06-21T11:10:32Z</td>\n      <td>1925</td>\n    </tr>\n    <tr>\n      <th>2</th>\n      <td>2021-06-21T11:10:46Z</td>\n      <td>2082</td>\n    </tr>\n    <tr>\n      <th>3</th>\n      <td>2021-06-21T11:11:02Z</td>\n      <td>1919</td>\n    </tr>\n    <tr>\n      <th>4</th>\n      <td>2021-06-21T11:11:04Z</td>\n      <td>2015</td>\n    </tr>\n    <tr>\n      <th>5</th>\n      <td>2021-06-21T11:11:26Z</td>\n      <td>2042</td>\n    </tr>\n    <tr>\n      <th>6</th>\n      <td>2021-06-21T11:11:28Z</td>\n      <td>1910</td>\n    </tr>\n    <tr>\n      <th>7</th>\n      <td>2021-06-21T11:11:50Z</td>\n      <td>1946</td>\n    </tr>\n    <tr>\n      <th>8</th>\n      <td>2021-06-21T11:11:52Z</td>\n      <td>1956</td>\n    </tr>\n    <tr>\n      <th>9</th>\n      <td>2021-06-21T11:12:08Z</td>\n      <td>1922</td>\n    </tr>\n    <tr>\n      <th>10</th>\n      <td>2021-06-21T11:12:10Z</td>\n      <td>1890</td>\n    </tr>\n    <tr>\n      <th>11</th>\n      <td>2021-06-21T11:12:26Z</td>\n      <td>1895</td>\n    </tr>\n    <tr>\n      <th>12</th>\n      <td>2021-06-21T11:12:28Z</td>\n      <td>1948</td>\n    </tr>\n    <tr>\n      <th>13</th>\n      <td>2021-06-21T11:12:44Z</td>\n      <td>1967</td>\n    </tr>\n    <tr>\n      <th>14</th>\n      <td>2021-06-21T11:12:46Z</td>\n      <td>2031</td>\n    </tr>\n  </tbody>\n</table>\n</div>"
     },
     "metadata": {},
     "execution_count": 24
    }
   ],
   "source": [
    "df[(df['Timestamp'] > '2021-06-21T11:10:00Z') & (df['Timestamp'] < '2021-06-21T11:13:00Z')]"
   ]
  },
  {
   "cell_type": "code",
   "execution_count": 28,
   "metadata": {},
   "outputs": [
    {
     "output_type": "execute_result",
     "data": {
      "text/plain": "dtype('O')"
     },
     "metadata": {},
     "execution_count": 28
    }
   ],
   "source": [
    "df.dtypes['Timestamp']"
   ]
  },
  {
   "cell_type": "code",
   "execution_count": null,
   "metadata": {},
   "outputs": [],
   "source": []
  }
 ],
 "metadata": {
  "language_info": {
   "codemirror_mode": {
    "name": "ipython",
    "version": 3
   },
   "file_extension": ".py",
   "mimetype": "text/x-python",
   "name": "python",
   "nbconvert_exporter": "python",
   "pygments_lexer": "ipython3",
   "version": "3.7.1-final"
  },
  "orig_nbformat": 2,
  "kernelspec": {
   "name": "python3",
   "display_name": "Python 3"
  }
 },
 "nbformat": 4,
 "nbformat_minor": 2
}